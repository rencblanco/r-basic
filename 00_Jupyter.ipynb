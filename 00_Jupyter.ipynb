{
  "nbformat": 4,
  "nbformat_minor": 0,
  "metadata": {
    "colab": {
      "name": "00 Jupyter",
      "provenance": [],
      "collapsed_sections": [],
      "include_colab_link": true
    },
    "kernelspec": {
      "name": "python3",
      "display_name": "Python 3"
    }
  },
  "cells": [
    {
      "cell_type": "markdown",
      "metadata": {
        "id": "view-in-github",
        "colab_type": "text"
      },
      "source": [
        "<a href=\"https://colab.research.google.com/github/rencblanco/r-basic/blob/master/00_Jupyter.ipynb\" target=\"_parent\"><img src=\"https://colab.research.google.com/assets/colab-badge.svg\" alt=\"Open In Colab\"/></a>"
      ]
    },
    {
      "cell_type": "markdown",
      "metadata": {
        "id": "sXSC5m3aEZa4"
      },
      "source": [
        "<img src=\"https://solariabiodata.com.mx/images/solaria_banner.png\" width=\"400\">\r\n",
        "\r\n",
        "# Biodata Camp: Python\r\n",
        "Bienvenidos al material que hemos preparado para el Biodata Camp: Python 🐍\r\n",
        "\r\n",
        "---"
      ]
    },
    {
      "cell_type": "markdown",
      "metadata": {
        "id": "dPZeFuU4ozdu"
      },
      "source": [
        "\n",
        "# 00 Biodata Camp: Python\n"
      ]
    },
    {
      "cell_type": "markdown",
      "metadata": {
        "id": "KeVvqFtoEWRO"
      },
      "source": [
        "## Contenido del Curso"
      ]
    },
    {
      "cell_type": "markdown",
      "metadata": {
        "id": "KEJpn_0nqPzY"
      },
      "source": [
        "Sesion 1\r\n",
        "\t\r\n",
        "\t01\t04 - 05pm Uso de Python, Jupyter y Spyder\r\n",
        "\r\n",
        "\t02\t05 - 06pm Operaciones Aritméticas y de Texto\r\n",
        "\t\r\n",
        "\t03\t06 - 08pm Tipos de Datos y variables\r\n",
        "\t\t\r\n",
        "\r\n",
        "\r\n",
        "Sesion 2\r\n",
        "\t\r\n",
        "\t04  09 - 10 Carga de Datos de Secuenciación y Bioinformáticos\r\n",
        "    \r\n",
        "    05  10 - 11 Procesamiento de Marcadores Moleculares - Rob - SARS-CoV-2\r\n",
        "\t\r\n",
        "\t06  11 - 12 Visualización de Heatmaps (RNASeq, Matriz de Abundancia Tax)\r\n",
        "\t\r\n",
        "\t\t\t- Pandas, filtering\r\n",
        "\t\t\t- Numpy, transformaciones\r\n",
        "\t\t\t- Plotly\r\n",
        "\t\r\n",
        "\t12 - 13 Sesión de Preguntas "
      ]
    },
    {
      "cell_type": "code",
      "metadata": {
        "id": "5bcZc85mp6KA"
      },
      "source": [
        ""
      ],
      "execution_count": null,
      "outputs": []
    }
  ]
}